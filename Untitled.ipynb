{
 "cells": [
  {
   "cell_type": "code",
   "execution_count": 48,
   "id": "9816f4a0-f000-411d-84f5-3a94cfc9f0de",
   "metadata": {},
   "outputs": [
    {
     "name": "stdout",
     "output_type": "stream",
     "text": [
      "200\n",
      "\n",
      " {\n",
      "\"track\": \"blat\",\n",
      "\"genome\": \"hub_3671779_hs1\",\n",
      "\"fields\": [\"matches\", \"misMatches\", \"repMatches\", \"nCount\", \"qNumInsert\", \"qBaseInsert\", \"tNumInsert\", \"tBaseInsert\", \"strand\", \"qName\", \"qSize\", \"qStart\", \"qEnd\", \"tName\", \"tSize\", \"tStart\", \"tEnd\", \"blockCount\", \"blockSizes\", \"qStarts\", \"tStarts\"],\n",
      "\"blat\" : [\n",
      "[20,0,0,0,0,0,0,0,\"+\",\"YourSeq\",20,0,20,\"chr2\",242696752,225067161,225067181,1,\"20\",\"0\",\"225067161\"]\n",
      "]\n",
      "}\n",
      "\n",
      "\n"
     ]
    }
   ],
   "source": [
    "import requests\n",
    "import json\n",
    "seq = \"AAAGGCCCGGATCCGCATCT\"\n",
    "url = f\"https://genome.ucsc.edu/cgi-bin/hgBlat?userSeq={seq}&type=DNA&db=hs1&output=json\"\n",
    "\n",
    "response = requests.get(url)\n",
    "\n",
    "# To print the status code\n",
    "print(response.status_code)\n",
    "\n",
    "# To print the response text\n",
    "print(response.text)"
   ]
  },
  {
   "cell_type": "code",
   "execution_count": 33,
   "id": "4db5ec02",
   "metadata": {},
   "outputs": [
    {
     "data": {
      "text/html": [
       "<div>\n",
       "<style scoped>\n",
       "    .dataframe tbody tr th:only-of-type {\n",
       "        vertical-align: middle;\n",
       "    }\n",
       "\n",
       "    .dataframe tbody tr th {\n",
       "        vertical-align: top;\n",
       "    }\n",
       "\n",
       "    .dataframe thead th {\n",
       "        text-align: right;\n",
       "    }\n",
       "</style>\n",
       "<table border=\"1\" class=\"dataframe\">\n",
       "  <thead>\n",
       "    <tr style=\"text-align: right;\">\n",
       "      <th></th>\n",
       "      <th>matches</th>\n",
       "      <th>misMatches</th>\n",
       "      <th>repMatches</th>\n",
       "      <th>nCount</th>\n",
       "      <th>qNumInsert</th>\n",
       "      <th>qBaseInsert</th>\n",
       "      <th>tNumInsert</th>\n",
       "      <th>tBaseInsert</th>\n",
       "      <th>strand</th>\n",
       "      <th>qName</th>\n",
       "      <th>...</th>\n",
       "      <th>qStart</th>\n",
       "      <th>qEnd</th>\n",
       "      <th>tName</th>\n",
       "      <th>tSize</th>\n",
       "      <th>tStart</th>\n",
       "      <th>tEnd</th>\n",
       "      <th>blockCount</th>\n",
       "      <th>blockSizes</th>\n",
       "      <th>qStarts</th>\n",
       "      <th>tStarts</th>\n",
       "    </tr>\n",
       "  </thead>\n",
       "  <tbody>\n",
       "    <tr>\n",
       "      <th>0</th>\n",
       "      <td>20</td>\n",
       "      <td>0</td>\n",
       "      <td>0</td>\n",
       "      <td>0</td>\n",
       "      <td>0</td>\n",
       "      <td>0</td>\n",
       "      <td>0</td>\n",
       "      <td>0</td>\n",
       "      <td>+</td>\n",
       "      <td>YourSeq</td>\n",
       "      <td>...</td>\n",
       "      <td>0</td>\n",
       "      <td>20</td>\n",
       "      <td>chr2</td>\n",
       "      <td>242193529</td>\n",
       "      <td>224584946</td>\n",
       "      <td>224584966</td>\n",
       "      <td>1</td>\n",
       "      <td>20</td>\n",
       "      <td>0</td>\n",
       "      <td>224584946</td>\n",
       "    </tr>\n",
       "  </tbody>\n",
       "</table>\n",
       "<p>1 rows × 21 columns</p>\n",
       "</div>"
      ],
      "text/plain": [
       "   matches  misMatches  repMatches  nCount  qNumInsert  qBaseInsert  \\\n",
       "0       20           0           0       0           0            0   \n",
       "\n",
       "   tNumInsert  tBaseInsert strand    qName  ...  qStart  qEnd  tName  \\\n",
       "0           0            0      +  YourSeq  ...       0    20   chr2   \n",
       "\n",
       "       tSize     tStart       tEnd  blockCount  blockSizes qStarts    tStarts  \n",
       "0  242193529  224584946  224584966           1          20       0  224584946  \n",
       "\n",
       "[1 rows x 21 columns]"
      ]
     },
     "execution_count": 33,
     "metadata": {},
     "output_type": "execute_result"
    }
   ],
   "source": [
    "import pandas as pd\n",
    "import json\n",
    "# Assuming json_response is your JSON response\n",
    "json_response = response.json()\n",
    "\n",
    "df = pd.DataFrame(json_response['blat'], columns=json_response['fields'])\n",
    "\n",
    "\n",
    "df"
   ]
  },
  {
   "cell_type": "code",
   "execution_count": 27,
   "id": "6d56aedb",
   "metadata": {},
   "outputs": [
    {
     "ename": "TypeError",
     "evalue": "'Response' object is not subscriptable",
     "output_type": "error",
     "traceback": [
      "\u001b[0;31m---------------------------------------------------------------------------\u001b[0m",
      "\u001b[0;31mTypeError\u001b[0m                                 Traceback (most recent call last)",
      "Cell \u001b[0;32mIn[27], line 1\u001b[0m\n\u001b[0;32m----> 1\u001b[0m \u001b[43mjson_response\u001b[49m\u001b[43m[\u001b[49m\u001b[38;5;124;43m'\u001b[39;49m\u001b[38;5;124;43mfields\u001b[39;49m\u001b[38;5;124;43m'\u001b[39;49m\u001b[43m]\u001b[49m\n\u001b[1;32m      2\u001b[0m json_response[\u001b[38;5;124m'\u001b[39m\u001b[38;5;124mblat\u001b[39m\u001b[38;5;124m'\u001b[39m]\n",
      "\u001b[0;31mTypeError\u001b[0m: 'Response' object is not subscriptable"
     ]
    }
   ],
   "source": [
    "json_response['fields']\n",
    "json_response['blat']"
   ]
  },
  {
   "cell_type": "code",
   "execution_count": 15,
   "id": "6ba6a502",
   "metadata": {},
   "outputs": [
    {
     "data": {
      "text/plain": [
       "[[20,\n",
       "  0,\n",
       "  0,\n",
       "  0,\n",
       "  0,\n",
       "  0,\n",
       "  0,\n",
       "  0,\n",
       "  '+',\n",
       "  'YourSeq',\n",
       "  20,\n",
       "  0,\n",
       "  20,\n",
       "  'chr2',\n",
       "  242193529,\n",
       "  224584946,\n",
       "  224584966,\n",
       "  1,\n",
       "  '20',\n",
       "  '0',\n",
       "  '224584946']]"
      ]
     },
     "execution_count": 15,
     "metadata": {},
     "output_type": "execute_result"
    }
   ],
   "source": []
  },
  {
   "cell_type": "code",
   "execution_count": 53,
   "id": "60917e24",
   "metadata": {},
   "outputs": [
    {
     "name": "stdout",
     "output_type": "stream",
     "text": [
      "ggcctgcggcctgttgggggacttcagcccgggcctcgcgtgcggctctcggcccggcccccggccccggggtcccggacgccgaggagagactcaccggaaaggcccggatccgcatcttggtgtccttccggctgcccgtgcctttgctcagattcgacatggtgctcgtcccctccccggcggcggcttcaggtcgcgctccgcgacgccggtgtca\n"
     ]
    }
   ],
   "source": [
    "import requests\n",
    "\n",
    "# Define the genomic coordinate\n",
    "chromosome = \"chr2\"\n",
    "start = 224584947 - 100\n",
    "end = 224584966 + 100\n",
    "\n",
    "# Define the URL\n",
    "url = f\"http://genome.ucsc.edu/cgi-bin/das/hs1/dna?segment={chromosome}:{start},{end}\"\n",
    "\n",
    "# Make the request\n",
    "response = requests.get(url)\n",
    "\n",
    "# Parse the XML response to get the DNA sequence\n",
    "from xml.etree import ElementTree as ET\n",
    "\n",
    "root = ET.fromstring(response.content)\n",
    "sequence = root.find('SEQUENCE').find('DNA').text\n",
    "\n",
    "# Remove whitespace and newline characters\n",
    "sequence = sequence.replace('\\n', '').replace(' ', '')\n",
    "\n",
    "print(sequence)"
   ]
  },
  {
   "cell_type": "code",
   "execution_count": 82,
   "id": "12b858a6",
   "metadata": {},
   "outputs": [
    {
     "ename": "OSError",
     "evalue": "TARGET beyond end of sequence",
     "output_type": "error",
     "traceback": [
      "\u001b[0;31m---------------------------------------------------------------------------\u001b[0m",
      "\u001b[0;31mOSError\u001b[0m                                   Traceback (most recent call last)",
      "Cell \u001b[0;32mIn[82], line 16\u001b[0m\n\u001b[1;32m     13\u001b[0m global_args \u001b[38;5;241m=\u001b[39m {\u001b[38;5;124m'\u001b[39m\u001b[38;5;124mPRIMER_PRODUCT_SIZE_RANGE\u001b[39m\u001b[38;5;124m'\u001b[39m:[\u001b[38;5;241m150\u001b[39m,\u001b[38;5;241m250\u001b[39m]}\n\u001b[1;32m     15\u001b[0m \u001b[38;5;66;03m# Call the function\u001b[39;00m\n\u001b[0;32m---> 16\u001b[0m results \u001b[38;5;241m=\u001b[39m \u001b[43mprimer3\u001b[49m\u001b[38;5;241;43m.\u001b[39;49m\u001b[43mbindings\u001b[49m\u001b[38;5;241;43m.\u001b[39;49m\u001b[43mdesign_primers\u001b[49m\u001b[43m(\u001b[49m\u001b[43mseq_args\u001b[49m\u001b[43m,\u001b[49m\u001b[43m \u001b[49m\u001b[43mglobal_args\u001b[49m\u001b[43m)\u001b[49m\n\u001b[1;32m     18\u001b[0m \u001b[38;5;66;03m# Print the results\u001b[39;00m\n\u001b[1;32m     19\u001b[0m \u001b[38;5;28mprint\u001b[39m(results)\n",
      "File \u001b[0;32m/usr/local/lib/python3.12/site-packages/primer3/bindings.py:550\u001b[0m, in \u001b[0;36mdesign_primers\u001b[0;34m(seq_args, global_args, misprime_lib, mishyb_lib)\u001b[0m\n\u001b[1;32m    528\u001b[0m \u001b[38;5;28;01mdef\u001b[39;00m \u001b[38;5;21mdesign_primers\u001b[39m(\n\u001b[1;32m    529\u001b[0m         seq_args: Dict[\u001b[38;5;28mstr\u001b[39m, Any],\n\u001b[1;32m    530\u001b[0m         global_args: Dict[\u001b[38;5;28mstr\u001b[39m, Any],\n\u001b[1;32m    531\u001b[0m         misprime_lib: Optional[Dict[\u001b[38;5;28mstr\u001b[39m, Any]] \u001b[38;5;241m=\u001b[39m \u001b[38;5;28;01mNone\u001b[39;00m,\n\u001b[1;32m    532\u001b[0m         mishyb_lib: Optional[Dict[\u001b[38;5;28mstr\u001b[39m, Any]] \u001b[38;5;241m=\u001b[39m \u001b[38;5;28;01mNone\u001b[39;00m,\n\u001b[1;32m    533\u001b[0m ) \u001b[38;5;241m-\u001b[39m\u001b[38;5;241m>\u001b[39m Dict[\u001b[38;5;28mstr\u001b[39m, Any]:\n\u001b[1;32m    534\u001b[0m \u001b[38;5;250m    \u001b[39m\u001b[38;5;124;03m'''Run the Primer3 design process.\u001b[39;00m\n\u001b[1;32m    535\u001b[0m \u001b[38;5;124;03m    This is a wrapper around :meth:`_ThermoAnalysis.run_design`.\u001b[39;00m\n\u001b[1;32m    536\u001b[0m \n\u001b[0;32m   (...)\u001b[0m\n\u001b[1;32m    548\u001b[0m \n\u001b[1;32m    549\u001b[0m \u001b[38;5;124;03m    '''\u001b[39;00m\n\u001b[0;32m--> 550\u001b[0m     \u001b[38;5;28;01mreturn\u001b[39;00m \u001b[43mTHERMO_ANALYSIS\u001b[49m\u001b[38;5;241;43m.\u001b[39;49m\u001b[43mrun_design\u001b[49m\u001b[43m(\u001b[49m\n\u001b[1;32m    551\u001b[0m \u001b[43m        \u001b[49m\u001b[43mglobal_args\u001b[49m\u001b[38;5;241;43m=\u001b[39;49m\u001b[43mglobal_args\u001b[49m\u001b[43m,\u001b[49m\n\u001b[1;32m    552\u001b[0m \u001b[43m        \u001b[49m\u001b[43mseq_args\u001b[49m\u001b[38;5;241;43m=\u001b[39;49m\u001b[43mseq_args\u001b[49m\u001b[43m,\u001b[49m\n\u001b[1;32m    553\u001b[0m \u001b[43m        \u001b[49m\u001b[43mmisprime_lib\u001b[49m\u001b[38;5;241;43m=\u001b[39;49m\u001b[43mmisprime_lib\u001b[49m\u001b[43m,\u001b[49m\n\u001b[1;32m    554\u001b[0m \u001b[43m        \u001b[49m\u001b[43mmishyb_lib\u001b[49m\u001b[38;5;241;43m=\u001b[39;49m\u001b[43mmishyb_lib\u001b[49m\u001b[43m,\u001b[49m\n\u001b[1;32m    555\u001b[0m \u001b[43m    \u001b[49m\u001b[43m)\u001b[49m\n",
      "File \u001b[0;32m/usr/local/lib/python3.12/site-packages/primer3/thermoanalysis.pyx:1290\u001b[0m, in \u001b[0;36mprimer3.thermoanalysis._ThermoAnalysis.run_design\u001b[0;34m()\u001b[0m\n",
      "File \u001b[0;32m/usr/local/lib/python3.12/site-packages/primer3/thermoanalysis.pyx:1593\u001b[0m, in \u001b[0;36mprimer3.thermoanalysis.pdh_design_output_to_dict\u001b[0;34m()\u001b[0m\n",
      "\u001b[0;31mOSError\u001b[0m: TARGET beyond end of sequence"
     ]
    }
   ],
   "source": [
    "import primer3\n",
    "\n",
    "sequence = \"ggcctgcggcctgttgggggacttcagcccgggcctcgcgtgcggctctcggcccggcccccggccccggggtcccggacgccgaggagagactcaccggaaaggcccggatccgcatcttggtgtccttccggctgcccgtgcctttgctcagattcgacatggtgctcgtcccctccccggcggcggcttcaggtcgcgctccgcgacgccggtgtca\"\n",
    "\n",
    "# Define the arguments for the designPrimers function\n",
    "seq_args = {\n",
    "    'SEQUENCE_ID': 'example',\n",
    "    'SEQUENCE_TEMPLATE': sequence,\n",
    "    'SEQUENCE_INCLUDED_REGION': [0,len(sequence)],\n",
    "    'SEQUENCE_TARGET': [250,20]\n",
    "    \n",
    "}\n",
    "global_args = {'PRIMER_PRODUCT_SIZE_RANGE':[150,250]}\n",
    "\n",
    "# Call the function\n",
    "results = primer3.bindings.design_primers(seq_args, global_args)\n",
    "\n",
    "# Print the results\n",
    "print(results)\n",
    "for result in results:\n",
    "    print(result, results[result])\n",
    "\n",
    "#     SEQUENCE_TARGET (interval list; default empty)\n",
    "# If one or more targets is specified then a legal primer pair must flank at least one of them. A target might be a simple sequence repeat site (for example a CA repeat) or a single-base-pair polymorphism, or an exon for resequencing. The value should be a space-separated list of\n",
    "\n",
    "\n",
    "\n",
    "# <start>,<length>"
   ]
  },
  {
   "cell_type": "code",
   "execution_count": 77,
   "id": "4331e576",
   "metadata": {},
   "outputs": [
    {
     "data": {
      "text/plain": [
       "[158, 20]"
      ]
     },
     "execution_count": 77,
     "metadata": {},
     "output_type": "execute_result"
    }
   ],
   "source": [
    "results ['PRIMER_PAIR_0_PRODUCT_SIZE']\n",
    "results ['PRIMER_LEFT_0']\n",
    "results ['PRIMER_RIGHT_0']\n",
    "# results['PRIMER_LEFT_0_SEQUENCE'], results['PRIMER_RIGHT_0_SEQUENCE']"
   ]
  },
  {
   "cell_type": "code",
   "execution_count": 79,
   "id": "e6ada5ea",
   "metadata": {},
   "outputs": [],
   "source": [
    "response = {\n",
    "    \"downloadTime\": \"2024:06:14T06:16:59Z\",\n",
    "    \"downloadTimeStamp\": 1718345819,\n",
    "    \"hubUrl\": \"/gbdb/hs1/hubs/public/hub.txt\",\n",
    "    \"genome\": \"hs1\",\n",
    "    \"chrom\": \"chr17\",\n",
    "    \"start\": 32164544,\n",
    "    \"end\": 32165064,\n",
    "    \"dna\": \"aggcgtgaaccaccgcgtccagcctagttctagaacattgttatcacccctaaaagaaacttggtaccctttagcagtcactgtctatttcttcctccttctaatctcTCTCGATTTATTTATTTTTTTTAATTGAAGTTTCCTTTTTTTCCTTGCAGAATCCAAGAAAACAGGGGCCCGAAACCCAAGGCAGTACAGCAGAATTAATTACAGGGCTCGTCCAACTGGTCCCTCAGTCACACATGCCAGAGATTGCTCAGGAAGCAATGGAGGTAAGGGGAAAATGAATTCCATGTTCTTGAAGGAAAGACTGTAACTATGTACATTCATGATGTTCCTTTGGTGTGTGGTTTCTGTGAGTAACAGGTAGATGTCATTTCTGGAAATGGTATGTTTATGTCTATACATTGTTTTATAAAACTCCATGGAGAAAGAAGGGGTTTACTTGCTTTGTATCACATAGCAATAACATTGTACAAATTCTGATGCTTAATAAAATAGTTCGAGATTTTCTAATTGC\"\n",
    "}"
   ]
  },
  {
   "cell_type": "code",
   "execution_count": 81,
   "id": "5dc6c81b",
   "metadata": {},
   "outputs": [
    {
     "data": {
      "text/plain": [
       "'aggcgtgaaccaccgcgtccagcctagttctagaacattgttatcacccctaaaagaaacttggtaccctttagcagtcactgtctatttcttcctccttctaatctcTCTCGATTTATTTATTTTTTTTAATTGAAGTTTCCTTTTTTTCCTTGCAGAATCCAAGAAAACAGGGGCCCGAAACCCAAGGCAGTACAGCAGAATTAATTACAGGGCTCGTCCAACTGGTCCCTCAGTCACACATGCCAGAGATTGCTCAGGAAGCAATGGAGGTAAGGGGAAAATGAATTCCATGTTCTTGAAGGAAAGACTGTAACTATGTACATTCATGATGTTCCTTTGGTGTGTGGTTTCTGTGAGTAACAGGTAGATGTCATTTCTGGAAATGGTATGTTTATGTCTATACATTGTTTTATAAAACTCCATGGAGAAAGAAGGGGTTTACTTGCTTTGTATCACATAGCAATAACATTGTACAAATTCTGATGCTTAATAAAATAGTTCGAGATTTTCTAATTGC'"
      ]
     },
     "execution_count": 81,
     "metadata": {},
     "output_type": "execute_result"
    }
   ],
   "source": [
    "response['dna']"
   ]
  }
 ],
 "metadata": {
  "kernelspec": {
   "display_name": "Python 3 (ipykernel)",
   "language": "python",
   "name": "python3"
  },
  "language_info": {
   "codemirror_mode": {
    "name": "ipython",
    "version": 3
   },
   "file_extension": ".py",
   "mimetype": "text/x-python",
   "name": "python",
   "nbconvert_exporter": "python",
   "pygments_lexer": "ipython3",
   "version": "3.12.4"
  }
 },
 "nbformat": 4,
 "nbformat_minor": 5
}
